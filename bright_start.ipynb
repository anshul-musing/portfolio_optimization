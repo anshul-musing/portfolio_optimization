{
 "cells": [
  {
   "cell_type": "code",
   "execution_count": 1,
   "metadata": {},
   "outputs": [],
   "source": [
    "import pandas as pd\n",
    "import numpy as np\n",
    "import matplotlib.pyplot as plt\n",
    "%matplotlib inline\n",
    "\n",
    "from markowitz.data import ingest, preprocess\n",
    "from markowitz.simulate import scenarios, efficient_frontier, portfolio_return"
   ]
  },
  {
   "cell_type": "markdown",
   "metadata": {},
   "source": [
    "### Download the ticker data"
   ]
  },
  {
   "cell_type": "code",
   "execution_count": 2,
   "metadata": {},
   "outputs": [],
   "source": [
    "exp_ratio = {\n",
    "    'VBMPX':0.03,\n",
    "    'VTIFX':0.07,\n",
    "    'VIIIX':0.02,\n",
    "    'VSMPX':0.02,\n",
    "    'VEXRX':0.34,\n",
    "    'VTPSX':0.07,\n",
    "    'VGSNX':0.1\n",
    "}"
   ]
  },
  {
   "cell_type": "code",
   "execution_count": 3,
   "metadata": {},
   "outputs": [
    {
     "name": "stdout",
     "output_type": "stream",
     "text": [
      "[*********************100%***********************]  7 of 7 completed\n"
     ]
    }
   ],
   "source": [
    "sd = \"2016-01-01\"\n",
    "ed = pd.to_datetime('now').floor('d').strftime('%Y-%m-%d')\n",
    "tickers = exp_ratio.keys()\n",
    "\n",
    "data = ingest(tickers, sd, ed)\n",
    "df = preprocess(data, tickers)"
   ]
  },
  {
   "cell_type": "code",
   "execution_count": 4,
   "metadata": {},
   "outputs": [
    {
     "name": "stdout",
     "output_type": "stream",
     "text": [
      "(1330, 15)\n"
     ]
    },
    {
     "data": {
      "text/html": [
       "<div>\n",
       "<style scoped>\n",
       "    .dataframe tbody tr th:only-of-type {\n",
       "        vertical-align: middle;\n",
       "    }\n",
       "\n",
       "    .dataframe tbody tr th {\n",
       "        vertical-align: top;\n",
       "    }\n",
       "\n",
       "    .dataframe thead th {\n",
       "        text-align: right;\n",
       "    }\n",
       "</style>\n",
       "<table border=\"1\" class=\"dataframe\">\n",
       "  <thead>\n",
       "    <tr style=\"text-align: right;\">\n",
       "      <th></th>\n",
       "      <th>Date</th>\n",
       "      <th>VBMPX</th>\n",
       "      <th>VTIFX</th>\n",
       "      <th>VIIIX</th>\n",
       "      <th>VSMPX</th>\n",
       "      <th>VEXRX</th>\n",
       "      <th>VTPSX</th>\n",
       "      <th>VGSNX</th>\n",
       "      <th>VBMPX-ret</th>\n",
       "      <th>VTIFX-ret</th>\n",
       "      <th>VIIIX-ret</th>\n",
       "      <th>VSMPX-ret</th>\n",
       "      <th>VEXRX-ret</th>\n",
       "      <th>VTPSX-ret</th>\n",
       "      <th>VGSNX-ret</th>\n",
       "    </tr>\n",
       "  </thead>\n",
       "  <tbody>\n",
       "    <tr>\n",
       "      <th>0</th>\n",
       "      <td>2016-01-04</td>\n",
       "      <td>10.66</td>\n",
       "      <td>31.740000</td>\n",
       "      <td>183.820007</td>\n",
       "      <td>93.790001</td>\n",
       "      <td>73.209999</td>\n",
       "      <td>95.040001</td>\n",
       "      <td>17.260000</td>\n",
       "      <td>0.999062</td>\n",
       "      <td>1.001260</td>\n",
       "      <td>1.002013</td>\n",
       "      <td>1.001813</td>\n",
       "      <td>1.000000</td>\n",
       "      <td>0.998632</td>\n",
       "      <td>1.020278</td>\n",
       "    </tr>\n",
       "    <tr>\n",
       "      <th>1</th>\n",
       "      <td>2016-01-05</td>\n",
       "      <td>10.65</td>\n",
       "      <td>31.780001</td>\n",
       "      <td>184.190002</td>\n",
       "      <td>93.959999</td>\n",
       "      <td>73.209999</td>\n",
       "      <td>94.910004</td>\n",
       "      <td>17.610001</td>\n",
       "      <td>1.003756</td>\n",
       "      <td>1.001888</td>\n",
       "      <td>0.987241</td>\n",
       "      <td>0.986696</td>\n",
       "      <td>0.984565</td>\n",
       "      <td>0.985038</td>\n",
       "      <td>0.996593</td>\n",
       "    </tr>\n",
       "    <tr>\n",
       "      <th>2</th>\n",
       "      <td>2016-01-06</td>\n",
       "      <td>10.69</td>\n",
       "      <td>31.840000</td>\n",
       "      <td>181.839996</td>\n",
       "      <td>92.709999</td>\n",
       "      <td>72.080002</td>\n",
       "      <td>93.489998</td>\n",
       "      <td>17.549999</td>\n",
       "      <td>1.000935</td>\n",
       "      <td>0.999058</td>\n",
       "      <td>0.976298</td>\n",
       "      <td>0.975731</td>\n",
       "      <td>0.973085</td>\n",
       "      <td>0.980426</td>\n",
       "      <td>0.980627</td>\n",
       "    </tr>\n",
       "  </tbody>\n",
       "</table>\n",
       "</div>"
      ],
      "text/plain": [
       "        Date  VBMPX      VTIFX       VIIIX      VSMPX      VEXRX      VTPSX  \\\n",
       "0 2016-01-04  10.66  31.740000  183.820007  93.790001  73.209999  95.040001   \n",
       "1 2016-01-05  10.65  31.780001  184.190002  93.959999  73.209999  94.910004   \n",
       "2 2016-01-06  10.69  31.840000  181.839996  92.709999  72.080002  93.489998   \n",
       "\n",
       "       VGSNX  VBMPX-ret  VTIFX-ret  VIIIX-ret  VSMPX-ret  VEXRX-ret  \\\n",
       "0  17.260000   0.999062   1.001260   1.002013   1.001813   1.000000   \n",
       "1  17.610001   1.003756   1.001888   0.987241   0.986696   0.984565   \n",
       "2  17.549999   1.000935   0.999058   0.976298   0.975731   0.973085   \n",
       "\n",
       "   VTPSX-ret  VGSNX-ret  \n",
       "0   0.998632   1.020278  \n",
       "1   0.985038   0.996593  \n",
       "2   0.980426   0.980627  "
      ]
     },
     "metadata": {},
     "output_type": "display_data"
    }
   ],
   "source": [
    "print(df.shape)\n",
    "display(df.head(3))"
   ]
  },
  {
   "cell_type": "code",
   "execution_count": 5,
   "metadata": {},
   "outputs": [
    {
     "name": "stdout",
     "output_type": "stream",
     "text": [
      "Date all_good\n",
      "VBMPX all_good\n",
      "VTIFX all_good\n",
      "VIIIX all_good\n",
      "VSMPX all_good\n",
      "VEXRX all_good\n",
      "VTPSX all_good\n",
      "VGSNX all_good\n",
      "VBMPX-ret all_good\n",
      "VTIFX-ret all_good\n",
      "VIIIX-ret all_good\n",
      "VSMPX-ret all_good\n",
      "VEXRX-ret all_good\n",
      "VTPSX-ret all_good\n",
      "VGSNX-ret all_good\n"
     ]
    }
   ],
   "source": [
    "for c in df.columns:\n",
    "    if df[c].isnull().sum() == 0:\n",
    "        print(c, 'all_good')\n",
    "    else:\n",
    "        print(c, 'missing_data')"
   ]
  },
  {
   "cell_type": "markdown",
   "metadata": {},
   "source": [
    "### Simulate and visualize"
   ]
  },
  {
   "cell_type": "code",
   "execution_count": 6,
   "metadata": {},
   "outputs": [
    {
     "name": "stdout",
     "output_type": "stream",
     "text": [
      "(200, 7)\n"
     ]
    },
    {
     "data": {
      "text/html": [
       "<div>\n",
       "<style scoped>\n",
       "    .dataframe tbody tr th:only-of-type {\n",
       "        vertical-align: middle;\n",
       "    }\n",
       "\n",
       "    .dataframe tbody tr th {\n",
       "        vertical-align: top;\n",
       "    }\n",
       "\n",
       "    .dataframe thead th {\n",
       "        text-align: right;\n",
       "    }\n",
       "</style>\n",
       "<table border=\"1\" class=\"dataframe\">\n",
       "  <thead>\n",
       "    <tr style=\"text-align: right;\">\n",
       "      <th></th>\n",
       "      <th>VBMPX</th>\n",
       "      <th>VTIFX</th>\n",
       "      <th>VIIIX</th>\n",
       "      <th>VSMPX</th>\n",
       "      <th>VEXRX</th>\n",
       "      <th>VTPSX</th>\n",
       "      <th>VGSNX</th>\n",
       "    </tr>\n",
       "  </thead>\n",
       "  <tbody>\n",
       "    <tr>\n",
       "      <th>0</th>\n",
       "      <td>-0.017403</td>\n",
       "      <td>0.009770</td>\n",
       "      <td>0.264333</td>\n",
       "      <td>0.361358</td>\n",
       "      <td>0.375773</td>\n",
       "      <td>0.391116</td>\n",
       "      <td>0.333725</td>\n",
       "    </tr>\n",
       "    <tr>\n",
       "      <th>1</th>\n",
       "      <td>-0.020282</td>\n",
       "      <td>-0.019835</td>\n",
       "      <td>0.294673</td>\n",
       "      <td>0.297289</td>\n",
       "      <td>0.150323</td>\n",
       "      <td>0.110923</td>\n",
       "      <td>-0.223027</td>\n",
       "    </tr>\n",
       "    <tr>\n",
       "      <th>2</th>\n",
       "      <td>-0.030988</td>\n",
       "      <td>0.039589</td>\n",
       "      <td>0.542049</td>\n",
       "      <td>0.629084</td>\n",
       "      <td>0.555324</td>\n",
       "      <td>0.278024</td>\n",
       "      <td>0.118441</td>\n",
       "    </tr>\n",
       "    <tr>\n",
       "      <th>3</th>\n",
       "      <td>-0.000957</td>\n",
       "      <td>-0.017296</td>\n",
       "      <td>0.110193</td>\n",
       "      <td>0.152095</td>\n",
       "      <td>0.118316</td>\n",
       "      <td>-0.005594</td>\n",
       "      <td>-0.069678</td>\n",
       "    </tr>\n",
       "    <tr>\n",
       "      <th>4</th>\n",
       "      <td>-0.003075</td>\n",
       "      <td>0.033797</td>\n",
       "      <td>0.501605</td>\n",
       "      <td>0.501158</td>\n",
       "      <td>0.289167</td>\n",
       "      <td>0.171095</td>\n",
       "      <td>0.153324</td>\n",
       "    </tr>\n",
       "  </tbody>\n",
       "</table>\n",
       "</div>"
      ],
      "text/plain": [
       "      VBMPX     VTIFX     VIIIX     VSMPX     VEXRX     VTPSX     VGSNX\n",
       "0 -0.017403  0.009770  0.264333  0.361358  0.375773  0.391116  0.333725\n",
       "1 -0.020282 -0.019835  0.294673  0.297289  0.150323  0.110923 -0.223027\n",
       "2 -0.030988  0.039589  0.542049  0.629084  0.555324  0.278024  0.118441\n",
       "3 -0.000957 -0.017296  0.110193  0.152095  0.118316 -0.005594 -0.069678\n",
       "4 -0.003075  0.033797  0.501605  0.501158  0.289167  0.171095  0.153324"
      ]
     },
     "execution_count": 6,
     "metadata": {},
     "output_type": "execute_result"
    }
   ],
   "source": [
    "# 1-year returns for each vehicle across multiple scenarios\n",
    "# each row is a scenario\n",
    "rdf = scenarios(df, tickers, exp_ratio, nscenarios=200, ndays=365)\n",
    "print(rdf.shape)\n",
    "rdf.head()"
   ]
  },
  {
   "cell_type": "code",
   "execution_count": 7,
   "metadata": {},
   "outputs": [
    {
     "data": {
      "image/png": "[encoded data removed]",
      "text/plain": [
       "<Figure size 1728x864 with 4 Axes>"
      ]
     },
     "metadata": {
      "needs_background": "light"
     },
     "output_type": "display_data"
    }
   ],
   "source": [
    "assets = [\"VBMPX\",\"VTIFX\",\"VSMPX\",\"VGSNX\"]\n",
    "\n",
    "fig = plt.figure(figsize=(24, 12))\n",
    "ctr = 0\n",
    "for i in range(len(assets)):\n",
    "    plt.subplot(2,2,i+1)\n",
    "    plt.hist(rdf[assets[i]], bins=20)\n",
    "    plt.xlim([-1,1.5])\n",
    "    plt.title(assets[i])\n",
    "\n",
    "plt.tight_layout()\n",
    "plt.show()"
   ]
  },
  {
   "cell_type": "markdown",
   "metadata": {},
   "source": [
    "### Optimize"
   ]
  },
  {
   "cell_type": "code",
   "execution_count": 8,
   "metadata": {},
   "outputs": [],
   "source": [
    "from markowitz.optimize import optimize"
   ]
  },
  {
   "cell_type": "code",
   "execution_count": 9,
   "metadata": {},
   "outputs": [
    {
     "name": "stderr",
     "output_type": "stream",
     "text": [
      "/Users/anshulagarwal/opt/anaconda3/envs/aag/lib/python3.7/site-packages/pulp/pulp.py:1114: UserWarning: Spaces are not permitted in the name. Converted to '_'\n",
      "  warnings.warn(\"Spaces are not permitted in the name. Converted to '_'\")\n"
     ]
    },
    {
     "data": {
      "text/html": [
       "<div>\n",
       "<style scoped>\n",
       "    .dataframe tbody tr th:only-of-type {\n",
       "        vertical-align: middle;\n",
       "    }\n",
       "\n",
       "    .dataframe tbody tr th {\n",
       "        vertical-align: top;\n",
       "    }\n",
       "\n",
       "    .dataframe thead th {\n",
       "        text-align: right;\n",
       "    }\n",
       "</style>\n",
       "<table border=\"1\" class=\"dataframe\">\n",
       "  <thead>\n",
       "    <tr style=\"text-align: right;\">\n",
       "      <th></th>\n",
       "      <th>VBMPX</th>\n",
       "      <th>VTIFX</th>\n",
       "      <th>VIIIX</th>\n",
       "      <th>VSMPX</th>\n",
       "      <th>VEXRX</th>\n",
       "      <th>VTPSX</th>\n",
       "      <th>VGSNX</th>\n",
       "      <th>return</th>\n",
       "      <th>risk</th>\n",
       "    </tr>\n",
       "  </thead>\n",
       "  <tbody>\n",
       "    <tr>\n",
       "      <th>0</th>\n",
       "      <td>0.000000</td>\n",
       "      <td>0.000000</td>\n",
       "      <td>0.0</td>\n",
       "      <td>1.000000</td>\n",
       "      <td>0.0</td>\n",
       "      <td>0.0</td>\n",
       "      <td>0.0</td>\n",
       "      <td>22.931395</td>\n",
       "      <td>0.023352</td>\n",
       "    </tr>\n",
       "    <tr>\n",
       "      <th>1</th>\n",
       "      <td>0.000000</td>\n",
       "      <td>0.000000</td>\n",
       "      <td>0.0</td>\n",
       "      <td>1.000000</td>\n",
       "      <td>0.0</td>\n",
       "      <td>0.0</td>\n",
       "      <td>0.0</td>\n",
       "      <td>22.931395</td>\n",
       "      <td>0.023352</td>\n",
       "    </tr>\n",
       "    <tr>\n",
       "      <th>2</th>\n",
       "      <td>0.000000</td>\n",
       "      <td>0.000000</td>\n",
       "      <td>0.0</td>\n",
       "      <td>1.000000</td>\n",
       "      <td>0.0</td>\n",
       "      <td>0.0</td>\n",
       "      <td>0.0</td>\n",
       "      <td>22.931395</td>\n",
       "      <td>0.023352</td>\n",
       "    </tr>\n",
       "    <tr>\n",
       "      <th>3</th>\n",
       "      <td>0.000000</td>\n",
       "      <td>0.000000</td>\n",
       "      <td>0.0</td>\n",
       "      <td>1.000000</td>\n",
       "      <td>0.0</td>\n",
       "      <td>0.0</td>\n",
       "      <td>0.0</td>\n",
       "      <td>22.931395</td>\n",
       "      <td>0.023352</td>\n",
       "    </tr>\n",
       "    <tr>\n",
       "      <th>4</th>\n",
       "      <td>0.000000</td>\n",
       "      <td>0.000000</td>\n",
       "      <td>0.0</td>\n",
       "      <td>1.000000</td>\n",
       "      <td>0.0</td>\n",
       "      <td>0.0</td>\n",
       "      <td>0.0</td>\n",
       "      <td>22.931395</td>\n",
       "      <td>0.023352</td>\n",
       "    </tr>\n",
       "    <tr>\n",
       "      <th>5</th>\n",
       "      <td>0.000000</td>\n",
       "      <td>0.000000</td>\n",
       "      <td>0.0</td>\n",
       "      <td>1.000000</td>\n",
       "      <td>0.0</td>\n",
       "      <td>0.0</td>\n",
       "      <td>0.0</td>\n",
       "      <td>22.931395</td>\n",
       "      <td>0.023352</td>\n",
       "    </tr>\n",
       "    <tr>\n",
       "      <th>6</th>\n",
       "      <td>0.113066</td>\n",
       "      <td>0.000000</td>\n",
       "      <td>0.0</td>\n",
       "      <td>0.886934</td>\n",
       "      <td>0.0</td>\n",
       "      <td>0.0</td>\n",
       "      <td>0.0</td>\n",
       "      <td>20.546059</td>\n",
       "      <td>0.020000</td>\n",
       "    </tr>\n",
       "    <tr>\n",
       "      <th>7</th>\n",
       "      <td>0.142562</td>\n",
       "      <td>0.142780</td>\n",
       "      <td>0.0</td>\n",
       "      <td>0.714658</td>\n",
       "      <td>0.0</td>\n",
       "      <td>0.0</td>\n",
       "      <td>0.0</td>\n",
       "      <td>16.977241</td>\n",
       "      <td>0.015000</td>\n",
       "    </tr>\n",
       "    <tr>\n",
       "      <th>8</th>\n",
       "      <td>0.158457</td>\n",
       "      <td>0.315290</td>\n",
       "      <td>0.0</td>\n",
       "      <td>0.526253</td>\n",
       "      <td>0.0</td>\n",
       "      <td>0.0</td>\n",
       "      <td>0.0</td>\n",
       "      <td>13.081842</td>\n",
       "      <td>0.010000</td>\n",
       "    </tr>\n",
       "    <tr>\n",
       "      <th>9</th>\n",
       "      <td>0.164248</td>\n",
       "      <td>0.524256</td>\n",
       "      <td>0.0</td>\n",
       "      <td>0.311496</td>\n",
       "      <td>0.0</td>\n",
       "      <td>0.0</td>\n",
       "      <td>0.0</td>\n",
       "      <td>8.647272</td>\n",
       "      <td>0.005000</td>\n",
       "    </tr>\n",
       "  </tbody>\n",
       "</table>\n",
       "</div>"
      ],
      "text/plain": [
       "      VBMPX     VTIFX  VIIIX     VSMPX  VEXRX  VTPSX  VGSNX     return  \\\n",
       "0  0.000000  0.000000    0.0  1.000000    0.0    0.0    0.0  22.931395   \n",
       "1  0.000000  0.000000    0.0  1.000000    0.0    0.0    0.0  22.931395   \n",
       "2  0.000000  0.000000    0.0  1.000000    0.0    0.0    0.0  22.931395   \n",
       "3  0.000000  0.000000    0.0  1.000000    0.0    0.0    0.0  22.931395   \n",
       "4  0.000000  0.000000    0.0  1.000000    0.0    0.0    0.0  22.931395   \n",
       "5  0.000000  0.000000    0.0  1.000000    0.0    0.0    0.0  22.931395   \n",
       "6  0.113066  0.000000    0.0  0.886934    0.0    0.0    0.0  20.546059   \n",
       "7  0.142562  0.142780    0.0  0.714658    0.0    0.0    0.0  16.977241   \n",
       "8  0.158457  0.315290    0.0  0.526253    0.0    0.0    0.0  13.081842   \n",
       "9  0.164248  0.524256    0.0  0.311496    0.0    0.0    0.0   8.647272   \n",
       "\n",
       "       risk  \n",
       "0  0.023352  \n",
       "1  0.023352  \n",
       "2  0.023352  \n",
       "3  0.023352  \n",
       "4  0.023352  \n",
       "5  0.023352  \n",
       "6  0.020000  \n",
       "7  0.015000  \n",
       "8  0.010000  \n",
       "9  0.005000  "
      ]
     },
     "execution_count": 9,
     "metadata": {},
     "output_type": "execute_result"
    }
   ],
   "source": [
    "min_ratio = 0.3 # minimum expense ratio\n",
    "min_assets = 1 # minimum assets in the portfolio\n",
    "max_risk = [0.05, 0.045, 0.04, 0.035, 0.03, 0.025, 0.02, 0.015, 0.01, 0.005] # max risk of negative returns\n",
    "\n",
    "res_list = []\n",
    "for m in max_risk:\n",
    "    obj, wopt, orisk = optimize(rdf, exp_ratio, m, min_ratio, min_assets)\n",
    "    wopt.update({'return':obj, 'risk': orisk})\n",
    "    res_list.append(wopt)\n",
    "\n",
    "resdf = pd.DataFrame(res_list)\n",
    "\n",
    "col_list = {}\n",
    "for i, c in enumerate(rdf.columns):\n",
    "    col_list[i] = c\n",
    "\n",
    "resdf = resdf.rename(columns=col_list)\n",
    "resdf"
   ]
  },
  {
   "cell_type": "code",
   "execution_count": 10,
   "metadata": {},
   "outputs": [
    {
     "name": "stdout",
     "output_type": "stream",
     "text": [
      "0.17 -0.011862471253074491 0.14607642989807176\n"
     ]
    }
   ],
   "source": [
    "w = {\n",
    "    'VBMPX':0.15,\n",
    "    'VTIFX':0.25,\n",
    "    'VIIIX':0.0,\n",
    "    'VSMPX':0.6,\n",
    "    'VEXRX':0.0,\n",
    "    'VTPSX':0.0,\n",
    "    'VGSNX':0.0\n",
    "}\n",
    "\n",
    "pdf, perc_neg_scenarios, avg_neg_return, avg_return = portfolio_return(rdf, w)\n",
    "print(perc_neg_scenarios, avg_neg_return, avg_return)"
   ]
  },
  {
   "cell_type": "code",
   "execution_count": 11,
   "metadata": {},
   "outputs": [],
   "source": [
    "# Final chosen (made a mistake, the fractions got flipped)\n",
    "res = {\n",
    "    'VBMPX':0.25,\n",
    "    'VTIFX':0.15,\n",
    "    'VSMPX':0.6\n",
    "}"
   ]
  },
  {
   "cell_type": "code",
   "execution_count": null,
   "metadata": {},
   "outputs": [],
   "source": []
  }
 ],
 "metadata": {
  "kernelspec": {
   "display_name": "Python 3",
   "language": "python",
   "name": "python3"
  },
  "language_info": {
   "codemirror_mode": {
    "name": "ipython",
    "version": 3
   },
   "file_extension": ".py",
   "mimetype": "text/x-python",
   "name": "python",
   "nbconvert_exporter": "python",
   "pygments_lexer": "ipython3",
   "version": "3.7.7"
  }
 },
 "nbformat": 4,
 "nbformat_minor": 4
}
