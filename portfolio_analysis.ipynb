{
 "cells": [
  {
   "cell_type": "code",
   "execution_count": 1,
   "metadata": {},
   "outputs": [],
   "source": [
    "import pandas as pd\n",
    "import numpy as np\n",
    "import matplotlib.pyplot as plt\n",
    "%matplotlib inline\n",
    "\n",
    "from markowitz.data import ingest, preprocess\n",
    "from markowitz.simulate import scenarios, efficient_frontier"
   ]
  },
  {
   "cell_type": "code",
   "execution_count": 2,
   "metadata": {},
   "outputs": [
    {
     "name": "stdout",
     "output_type": "stream",
     "text": [
      "[*********************100%***********************]  8 of 8 completed\n"
     ]
    }
   ],
   "source": [
    "sd = \"2016-01-01\"\n",
    "ed = \"2020-12-31\"\n",
    "#tickers = [\"RGAGX\", \"TISCX\", \"VBTIX\", \"VTIFX\"]\n",
    "exp_ratio = {\n",
    "    'VBMPX':0.03,\n",
    "    'VTIFX':0.07,\n",
    "    'VMFXX':0.11,\n",
    "    'VIIIX':0.02,\n",
    "    'VSMPX':0.02,\n",
    "    'VEXRX':0.34,\n",
    "    'VTPSX':0.07,\n",
    "    'VGSNX':0.1\n",
    "}\n",
    "tickers = exp_ratio.keys()\n",
    "\n",
    "data = ingest(tickers, sd, ed)\n",
    "df = preprocess(data, tickers)"
   ]
  },
  {
   "cell_type": "code",
   "execution_count": 3,
   "metadata": {},
   "outputs": [
    {
     "data": {
      "text/html": [
       "<div>\n",
       "<style scoped>\n",
       "    .dataframe tbody tr th:only-of-type {\n",
       "        vertical-align: middle;\n",
       "    }\n",
       "\n",
       "    .dataframe tbody tr th {\n",
       "        vertical-align: top;\n",
       "    }\n",
       "\n",
       "    .dataframe thead th {\n",
       "        text-align: right;\n",
       "    }\n",
       "</style>\n",
       "<table border=\"1\" class=\"dataframe\">\n",
       "  <thead>\n",
       "    <tr style=\"text-align: right;\">\n",
       "      <th></th>\n",
       "      <th>VBMPX</th>\n",
       "      <th>VTIFX</th>\n",
       "      <th>VMFXX</th>\n",
       "      <th>VIIIX</th>\n",
       "      <th>VSMPX</th>\n",
       "      <th>VEXRX</th>\n",
       "      <th>VTPSX</th>\n",
       "      <th>VGSNX</th>\n",
       "    </tr>\n",
       "  </thead>\n",
       "  <tbody>\n",
       "    <tr>\n",
       "      <th>0</th>\n",
       "      <td>-0.004396</td>\n",
       "      <td>0.010315</td>\n",
       "      <td>-0.0011</td>\n",
       "      <td>0.387936</td>\n",
       "      <td>0.458876</td>\n",
       "      <td>0.448824</td>\n",
       "      <td>0.387286</td>\n",
       "      <td>0.266098</td>\n",
       "    </tr>\n",
       "    <tr>\n",
       "      <th>1</th>\n",
       "      <td>-0.025352</td>\n",
       "      <td>-0.005933</td>\n",
       "      <td>-0.0011</td>\n",
       "      <td>0.149387</td>\n",
       "      <td>0.160961</td>\n",
       "      <td>0.028512</td>\n",
       "      <td>0.080313</td>\n",
       "      <td>-0.261742</td>\n",
       "    </tr>\n",
       "    <tr>\n",
       "      <th>2</th>\n",
       "      <td>-0.004061</td>\n",
       "      <td>0.064950</td>\n",
       "      <td>-0.0011</td>\n",
       "      <td>0.409816</td>\n",
       "      <td>0.440886</td>\n",
       "      <td>0.371751</td>\n",
       "      <td>0.159474</td>\n",
       "      <td>0.024292</td>\n",
       "    </tr>\n",
       "    <tr>\n",
       "      <th>3</th>\n",
       "      <td>0.002796</td>\n",
       "      <td>-0.003435</td>\n",
       "      <td>-0.0011</td>\n",
       "      <td>0.171392</td>\n",
       "      <td>0.225061</td>\n",
       "      <td>0.241606</td>\n",
       "      <td>0.037575</td>\n",
       "      <td>-0.131888</td>\n",
       "    </tr>\n",
       "    <tr>\n",
       "      <th>4</th>\n",
       "      <td>0.039813</td>\n",
       "      <td>0.021636</td>\n",
       "      <td>-0.0011</td>\n",
       "      <td>0.050720</td>\n",
       "      <td>0.058333</td>\n",
       "      <td>-0.070352</td>\n",
       "      <td>-0.129963</td>\n",
       "      <td>0.019372</td>\n",
       "    </tr>\n",
       "  </tbody>\n",
       "</table>\n",
       "</div>"
      ],
      "text/plain": [
       "      VBMPX     VTIFX   VMFXX     VIIIX     VSMPX     VEXRX     VTPSX  \\\n",
       "0 -0.004396  0.010315 -0.0011  0.387936  0.458876  0.448824  0.387286   \n",
       "1 -0.025352 -0.005933 -0.0011  0.149387  0.160961  0.028512  0.080313   \n",
       "2 -0.004061  0.064950 -0.0011  0.409816  0.440886  0.371751  0.159474   \n",
       "3  0.002796 -0.003435 -0.0011  0.171392  0.225061  0.241606  0.037575   \n",
       "4  0.039813  0.021636 -0.0011  0.050720  0.058333 -0.070352 -0.129963   \n",
       "\n",
       "      VGSNX  \n",
       "0  0.266098  \n",
       "1 -0.261742  \n",
       "2  0.024292  \n",
       "3 -0.131888  \n",
       "4  0.019372  "
      ]
     },
     "execution_count": 3,
     "metadata": {},
     "output_type": "execute_result"
    }
   ],
   "source": [
    "rdf = scenarios(df, tickers, exp_ratio, nscenarios=200, ndays=365)\n",
    "rdf.head()"
   ]
  },
  {
   "cell_type": "code",
   "execution_count": 4,
   "metadata": {},
   "outputs": [
    {
     "data": {
      "text/plain": [
       "<matplotlib.collections.PathCollection at 0x11e1b3790>"
      ]
     },
     "execution_count": 4,
     "metadata": {},
     "output_type": "execute_result"
    },
    {
     "data": {
      "image/png": "[encoded data removed]",
      "text/plain": [
       "<Figure size 432x288 with 1 Axes>"
      ]
     },
     "metadata": {
      "needs_background": "light"
     },
     "output_type": "display_data"
    }
   ],
   "source": [
    "n, a = efficient_frontier(tickers, rdf)\n",
    "plt.scatter(n,a)"
   ]
  },
  {
   "cell_type": "code",
   "execution_count": 5,
   "metadata": {},
   "outputs": [
    {
     "data": {
      "text/plain": [
       "(-1.0, 1.5)"
      ]
     },
     "execution_count": 5,
     "metadata": {},
     "output_type": "execute_result"
    },
    {
     "data": {
      "image/png": "[encoded data removed]",
      "text/plain": [
       "<Figure size 432x288 with 1 Axes>"
      ]
     },
     "metadata": {
      "needs_background": "light"
     },
     "output_type": "display_data"
    }
   ],
   "source": [
    "fund=\"VGSNX\"\n",
    "_, _, _ = plt.hist(rdf[fund], bins=20)\n",
    "plt.xlim([-1,1.5])"
   ]
  },
  {
   "cell_type": "code",
   "execution_count": 6,
   "metadata": {},
   "outputs": [
    {
     "data": {
      "text/plain": [
       "(-1.0, 1.5)"
      ]
     },
     "execution_count": 6,
     "metadata": {},
     "output_type": "execute_result"
    },
    {
     "data": {
      "image/png": "[encoded data removed]",
      "text/plain": [
       "<Figure size 432x288 with 1 Axes>"
      ]
     },
     "metadata": {
      "needs_background": "light"
     },
     "output_type": "display_data"
    }
   ],
   "source": [
    "fund=\"VBMPX\"\n",
    "_, _, _ = plt.hist(rdf[fund], bins=20)\n",
    "plt.xlim([-1,1.5])"
   ]
  },
  {
   "cell_type": "code",
   "execution_count": 7,
   "metadata": {},
   "outputs": [
    {
     "data": {
      "text/plain": [
       "(-1.0, 1.5)"
      ]
     },
     "execution_count": 7,
     "metadata": {},
     "output_type": "execute_result"
    },
    {
     "data": {
      "image/png": "[encoded data removed]",
      "text/plain": [
       "<Figure size 432x288 with 1 Axes>"
      ]
     },
     "metadata": {
      "needs_background": "light"
     },
     "output_type": "display_data"
    }
   ],
   "source": [
    "fund=\"VSMPX\"\n",
    "_, _, _ = plt.hist(rdf[fund], bins=20)\n",
    "plt.xlim([-1,1.5])"
   ]
  },
  {
   "cell_type": "code",
   "execution_count": null,
   "metadata": {},
   "outputs": [],
   "source": []
  }
 ],
 "metadata": {
  "kernelspec": {
   "display_name": "Python 3",
   "language": "python",
   "name": "python3"
  },
  "language_info": {
   "codemirror_mode": {
    "name": "ipython",
    "version": 3
   },
   "file_extension": ".py",
   "mimetype": "text/x-python",
   "name": "python",
   "nbconvert_exporter": "python",
   "pygments_lexer": "ipython3",
   "version": "3.7.7"
  }
 },
 "nbformat": 4,
 "nbformat_minor": 4
}
